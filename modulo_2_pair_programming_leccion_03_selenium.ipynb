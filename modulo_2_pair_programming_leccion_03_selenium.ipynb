{
 "cells": [
  {
   "cell_type": "markdown",
   "metadata": {},
   "source": [
    "Ejercicios Selenium Extracción de Datos de Libros de Ficción en La Casa del Libro\n",
    "\n",
    "Imagina que eres un analista de datos en una importante cadena de librerías y tu misión es recopilar información actualizada sobre los libros de ficción disponibles en el mercado. Esta información es vital para tomar decisiones estratégicas, como determinar qué libros de ficción deben ser promocionados, ajustar los precios competitivamente y gestionar adecuadamente el inventario. La Casa del Libro es uno de los principales competidores, por lo que es esencial mantenerse al tanto de su catálogo.\n",
    "\n",
    "Objetivo del Ejercicio: El objetivo de este ejercicio es que las alumnas utilicen Selenium en Python para automatizar la extracción de datos de los libros de ficción en el sitio web de La Casa del Libro. Deberán obtener información clave de los libros, incluyendo título, autor, precio, editorial, idioma y número de páginas.\n",
    "\n",
    "Descripción:\n",
    "\n",
    "Acceso a la Página de La Casa del Libro: Utilizando Selenium, deberás automatizar el proceso de navegación hacia la página de libros de ficción en el sitio web de La Casa del Libro.\n",
    "\n",
    "Extracción de Datos de las 5 Primeras Páginas: Una vez en la página de libros de ficción, debes programar su script para que recorra los 5 primeros libros de libros, extrayendo los siguientes datos de cada libro:\n",
    "\n",
    "Título del libro.\n",
    "\n",
    "Autor(es) del libro.\n",
    "\n",
    "Precio del libro.\n",
    "\n",
    "Editorial del libro.\n",
    "\n",
    "Idioma del libro.\n",
    "\n",
    "Número de páginas del libro.\n",
    "\n",
    "Almacenamiento de Datos: Los datos extraídos deben almacenarse en un DataFrame."
   ]
  },
  {
   "cell_type": "code",
   "execution_count": 2,
   "metadata": {},
   "outputs": [],
   "source": [
    "# Importar librerías para tratamiento de datos\n",
    "# -----------------------------------------------------------------------\n",
    "import pandas as pd  # Pandas es una poderosa librería para manipulación y análisis de datos en Python.\n",
    "\n",
    "# Importar librerías para web scraping y manipulación de datos\n",
    "# -----------------------------------------------------------------------\n",
    "from bs4 import BeautifulSoup\n",
    "import requests\n",
    "\n",
    "# Importar librerías para automatización de navegadores web con Selenium\n",
    "# -----------------------------------------------------------------------\n",
    "from selenium import webdriver  # Selenium es una herramienta para automatizar la interacción con navegadores web.\n",
    "from webdriver_manager.chrome import ChromeDriverManager  # ChromeDriverManager gestiona la instalación del controlador de Chrome.\n",
    "from selenium.webdriver.common.keys import Keys  # Keys es útil para simular eventos de teclado en Selenium.\n",
    "from selenium.webdriver.support.ui import Select  # Select se utiliza para interactuar con elementos <select> en páginas web.\n",
    "\n",
    "# Importar librerías para pausar la ejecución\n",
    "# -----------------------------------------------------------------------\n",
    "from time import sleep  # Sleep se utiliza para pausar la ejecución del programa por un número de segundos.\n",
    "\n",
    "# Configuraciones\n",
    "# -----------------------------------------------------------------------\n",
    "pd.set_option('display.max_columns', None)  # Establece una opción de Pandas para mostrar todas las columnas de un DataFrame."
   ]
  },
  {
   "cell_type": "code",
   "execution_count": 1,
   "metadata": {},
   "outputs": [
    {
     "ename": "NameError",
     "evalue": "name 'webdriver' is not defined",
     "output_type": "error",
     "traceback": [
      "\u001b[0;31m---------------------------------------------------------------------------\u001b[0m",
      "\u001b[0;31mNameError\u001b[0m                                 Traceback (most recent call last)",
      "Cell \u001b[0;32mIn[1], line 2\u001b[0m\n\u001b[1;32m      1\u001b[0m \u001b[38;5;66;03m# Inicializar el navegador\u001b[39;00m\n\u001b[0;32m----> 2\u001b[0m driver \u001b[38;5;241m=\u001b[39m webdriver\u001b[38;5;241m.\u001b[39mChrome()\n\u001b[1;32m      4\u001b[0m \u001b[38;5;66;03m# Maximizar la ventana del navegador\u001b[39;00m\n\u001b[1;32m      5\u001b[0m driver\u001b[38;5;241m.\u001b[39mmaximize_window()\n",
      "\u001b[0;31mNameError\u001b[0m: name 'webdriver' is not defined"
     ]
    }
   ],
   "source": [
    "# Inicializar el navegador\n",
    "driver = webdriver.Chrome()\n",
    "\n",
    "# Maximizar la ventana del navegador\n",
    "driver.maximize_window()\n",
    "print(\"Maximizando a la web.\")\n",
    "\n",
    "# Acceder al sitio web de Decathlon\n",
    "driver.get(\"https://www.casadellibro.com/\")\n",
    "print(\"Accediendo a la web.\")\n",
    "# Pausa de 6 segundos para que cargue la página completamente\n",
    "sleep(6)\n",
    "\n",
    "# Acepta las cookies haciendo clic en el elemento con el selector CSS\n",
    "driver.find_element(\"css selector\", \"#onetrust-accept-btn-handler\").click()\n",
    "print(\"Cookies aceptadas.\")"
   ]
  },
  {
   "cell_type": "code",
   "execution_count": 9,
   "metadata": {},
   "outputs": [
    {
     "name": "stdout",
     "output_type": "stream",
     "text": [
      "Input del usuario registrado.\n"
     ]
    }
   ],
   "source": [
    "# Se le da unos segundos, 5 en este caso, para ejecutar y que espere para la siguiente ejecución.\n",
    "driver.implicitly_wait(5)\n",
    "\n",
    "# Solicitar al usuario que ingrese qué género desea buscar en la página de Casa del Libro.\n",
    "eleccion_usuario_libro = input(\"¿Qué género quieres encontrar en la página?\")\n",
    "print(\"Input del usuario registrado.\")\n",
    "\n"
   ]
  },
  {
   "cell_type": "code",
   "execution_count": 21,
   "metadata": {},
   "outputs": [
    {
     "ename": "ElementNotInteractableException",
     "evalue": "Message: element not interactable\n  (Session info: chrome=127.0.6533.120)\nStacktrace:\n0   chromedriver                        0x0000000105a708b8 chromedriver + 5179576\n1   chromedriver                        0x0000000105a682ea chromedriver + 5145322\n2   chromedriver                        0x00000001055df0e1 chromedriver + 389345\n3   chromedriver                        0x000000010562c695 chromedriver + 706197\n4   chromedriver                        0x0000000105620496 chromedriver + 656534\n5   chromedriver                        0x000000010564d7b2 chromedriver + 841650\n6   chromedriver                        0x000000010561fe58 chromedriver + 654936\n7   chromedriver                        0x000000010564d96e chromedriver + 842094\n8   chromedriver                        0x000000010566ab9b chromedriver + 961435\n9   chromedriver                        0x000000010564d553 chromedriver + 841043\n10  chromedriver                        0x000000010561e7f6 chromedriver + 649206\n11  chromedriver                        0x000000010561f05e chromedriver + 651358\n12  chromedriver                        0x0000000105a33b20 chromedriver + 4930336\n13  chromedriver                        0x0000000105a38a36 chromedriver + 4950582\n14  chromedriver                        0x0000000105a39105 chromedriver + 4952325\n15  chromedriver                        0x0000000105a15ee9 chromedriver + 4808425\n16  chromedriver                        0x0000000105a393f9 chromedriver + 4953081\n17  chromedriver                        0x0000000105a07844 chromedriver + 4749380\n18  chromedriver                        0x0000000105a585c8 chromedriver + 5080520\n19  chromedriver                        0x0000000105a58787 chromedriver + 5080967\n20  chromedriver                        0x0000000105a67ece chromedriver + 5144270\n21  libsystem_pthread.dylib             0x00007ff8054364e1 _pthread_start + 125\n22  libsystem_pthread.dylib             0x00007ff805431f6b thread_start + 15\n",
     "output_type": "error",
     "traceback": [
      "\u001b[0;31m---------------------------------------------------------------------------\u001b[0m",
      "\u001b[0;31mElementNotInteractableException\u001b[0m           Traceback (most recent call last)",
      "Cell \u001b[0;32mIn[21], line 1\u001b[0m\n\u001b[0;32m----> 1\u001b[0m driver\u001b[38;5;241m.\u001b[39mfind_element(\u001b[38;5;124m\"\u001b[39m\u001b[38;5;124mcss selector\u001b[39m\u001b[38;5;124m\"\u001b[39m, \u001b[38;5;124m\"\u001b[39m\u001b[38;5;124m#app > div.v-application--wrap > div.when-mobile > div.cabecera.desktop > div.bottom-row > div > div > div:nth-child(2) > a\u001b[39m\u001b[38;5;124m\"\u001b[39m)\u001b[38;5;241m.\u001b[39mclick()\n\u001b[1;32m      2\u001b[0m \u001b[38;5;28mprint\u001b[39m(\u001b[38;5;124m\"\u001b[39m\u001b[38;5;124mClick en Ficción.\u001b[39m\u001b[38;5;124m\"\u001b[39m)\n",
      "File \u001b[0;32m/opt/anaconda3/lib/python3.11/site-packages/selenium/webdriver/remote/webelement.py:94\u001b[0m, in \u001b[0;36mWebElement.click\u001b[0;34m(self)\u001b[0m\n\u001b[1;32m     92\u001b[0m \u001b[38;5;28;01mdef\u001b[39;00m \u001b[38;5;21mclick\u001b[39m(\u001b[38;5;28mself\u001b[39m) \u001b[38;5;241m-\u001b[39m\u001b[38;5;241m>\u001b[39m \u001b[38;5;28;01mNone\u001b[39;00m:\n\u001b[1;32m     93\u001b[0m \u001b[38;5;250m    \u001b[39m\u001b[38;5;124;03m\"\"\"Clicks the element.\"\"\"\u001b[39;00m\n\u001b[0;32m---> 94\u001b[0m     \u001b[38;5;28mself\u001b[39m\u001b[38;5;241m.\u001b[39m_execute(Command\u001b[38;5;241m.\u001b[39mCLICK_ELEMENT)\n",
      "File \u001b[0;32m/opt/anaconda3/lib/python3.11/site-packages/selenium/webdriver/remote/webelement.py:395\u001b[0m, in \u001b[0;36mWebElement._execute\u001b[0;34m(self, command, params)\u001b[0m\n\u001b[1;32m    393\u001b[0m     params \u001b[38;5;241m=\u001b[39m {}\n\u001b[1;32m    394\u001b[0m params[\u001b[38;5;124m\"\u001b[39m\u001b[38;5;124mid\u001b[39m\u001b[38;5;124m\"\u001b[39m] \u001b[38;5;241m=\u001b[39m \u001b[38;5;28mself\u001b[39m\u001b[38;5;241m.\u001b[39m_id\n\u001b[0;32m--> 395\u001b[0m \u001b[38;5;28;01mreturn\u001b[39;00m \u001b[38;5;28mself\u001b[39m\u001b[38;5;241m.\u001b[39m_parent\u001b[38;5;241m.\u001b[39mexecute(command, params)\n",
      "File \u001b[0;32m/opt/anaconda3/lib/python3.11/site-packages/selenium/webdriver/remote/webdriver.py:354\u001b[0m, in \u001b[0;36mWebDriver.execute\u001b[0;34m(self, driver_command, params)\u001b[0m\n\u001b[1;32m    352\u001b[0m response \u001b[38;5;241m=\u001b[39m \u001b[38;5;28mself\u001b[39m\u001b[38;5;241m.\u001b[39mcommand_executor\u001b[38;5;241m.\u001b[39mexecute(driver_command, params)\n\u001b[1;32m    353\u001b[0m \u001b[38;5;28;01mif\u001b[39;00m response:\n\u001b[0;32m--> 354\u001b[0m     \u001b[38;5;28mself\u001b[39m\u001b[38;5;241m.\u001b[39merror_handler\u001b[38;5;241m.\u001b[39mcheck_response(response)\n\u001b[1;32m    355\u001b[0m     response[\u001b[38;5;124m\"\u001b[39m\u001b[38;5;124mvalue\u001b[39m\u001b[38;5;124m\"\u001b[39m] \u001b[38;5;241m=\u001b[39m \u001b[38;5;28mself\u001b[39m\u001b[38;5;241m.\u001b[39m_unwrap_value(response\u001b[38;5;241m.\u001b[39mget(\u001b[38;5;124m\"\u001b[39m\u001b[38;5;124mvalue\u001b[39m\u001b[38;5;124m\"\u001b[39m, \u001b[38;5;28;01mNone\u001b[39;00m))\n\u001b[1;32m    356\u001b[0m     \u001b[38;5;28;01mreturn\u001b[39;00m response\n",
      "File \u001b[0;32m/opt/anaconda3/lib/python3.11/site-packages/selenium/webdriver/remote/errorhandler.py:229\u001b[0m, in \u001b[0;36mErrorHandler.check_response\u001b[0;34m(self, response)\u001b[0m\n\u001b[1;32m    227\u001b[0m         alert_text \u001b[38;5;241m=\u001b[39m value[\u001b[38;5;124m\"\u001b[39m\u001b[38;5;124malert\u001b[39m\u001b[38;5;124m\"\u001b[39m]\u001b[38;5;241m.\u001b[39mget(\u001b[38;5;124m\"\u001b[39m\u001b[38;5;124mtext\u001b[39m\u001b[38;5;124m\"\u001b[39m)\n\u001b[1;32m    228\u001b[0m     \u001b[38;5;28;01mraise\u001b[39;00m exception_class(message, screen, stacktrace, alert_text)  \u001b[38;5;66;03m# type: ignore[call-arg]  # mypy is not smart enough here\u001b[39;00m\n\u001b[0;32m--> 229\u001b[0m \u001b[38;5;28;01mraise\u001b[39;00m exception_class(message, screen, stacktrace)\n",
      "\u001b[0;31mElementNotInteractableException\u001b[0m: Message: element not interactable\n  (Session info: chrome=127.0.6533.120)\nStacktrace:\n0   chromedriver                        0x0000000105a708b8 chromedriver + 5179576\n1   chromedriver                        0x0000000105a682ea chromedriver + 5145322\n2   chromedriver                        0x00000001055df0e1 chromedriver + 389345\n3   chromedriver                        0x000000010562c695 chromedriver + 706197\n4   chromedriver                        0x0000000105620496 chromedriver + 656534\n5   chromedriver                        0x000000010564d7b2 chromedriver + 841650\n6   chromedriver                        0x000000010561fe58 chromedriver + 654936\n7   chromedriver                        0x000000010564d96e chromedriver + 842094\n8   chromedriver                        0x000000010566ab9b chromedriver + 961435\n9   chromedriver                        0x000000010564d553 chromedriver + 841043\n10  chromedriver                        0x000000010561e7f6 chromedriver + 649206\n11  chromedriver                        0x000000010561f05e chromedriver + 651358\n12  chromedriver                        0x0000000105a33b20 chromedriver + 4930336\n13  chromedriver                        0x0000000105a38a36 chromedriver + 4950582\n14  chromedriver                        0x0000000105a39105 chromedriver + 4952325\n15  chromedriver                        0x0000000105a15ee9 chromedriver + 4808425\n16  chromedriver                        0x0000000105a393f9 chromedriver + 4953081\n17  chromedriver                        0x0000000105a07844 chromedriver + 4749380\n18  chromedriver                        0x0000000105a585c8 chromedriver + 5080520\n19  chromedriver                        0x0000000105a58787 chromedriver + 5080967\n20  chromedriver                        0x0000000105a67ece chromedriver + 5144270\n21  libsystem_pthread.dylib             0x00007ff8054364e1 _pthread_start + 125\n22  libsystem_pthread.dylib             0x00007ff805431f6b thread_start + 15\n"
     ]
    }
   ],
   "source": [
    "driver.find_element(\"css selector\", \"#app > div.v-application--wrap > div.when-mobile > div.cabecera.desktop > div.bottom-row > div > div > div:nth-child(2) > a\").click()\n",
    "print(\"Click en Ficción.\")"
   ]
  },
  {
   "cell_type": "code",
   "execution_count": 20,
   "metadata": {},
   "outputs": [
    {
     "ename": "ElementNotInteractableException",
     "evalue": "Message: element not interactable\n  (Session info: chrome=127.0.6533.120)\nStacktrace:\n0   chromedriver                        0x0000000105a708b8 chromedriver + 5179576\n1   chromedriver                        0x0000000105a682ea chromedriver + 5145322\n2   chromedriver                        0x00000001055df0e1 chromedriver + 389345\n3   chromedriver                        0x0000000105625598 chromedriver + 677272\n4   chromedriver                        0x00000001056239fa chromedriver + 670202\n5   chromedriver                        0x000000010564d7b2 chromedriver + 841650\n6   chromedriver                        0x000000010561fe58 chromedriver + 654936\n7   chromedriver                        0x000000010564d96e chromedriver + 842094\n8   chromedriver                        0x000000010566ab9b chromedriver + 961435\n9   chromedriver                        0x000000010564d553 chromedriver + 841043\n10  chromedriver                        0x000000010561e7f6 chromedriver + 649206\n11  chromedriver                        0x000000010561f05e chromedriver + 651358\n12  chromedriver                        0x0000000105a33b20 chromedriver + 4930336\n13  chromedriver                        0x0000000105a38a36 chromedriver + 4950582\n14  chromedriver                        0x0000000105a39105 chromedriver + 4952325\n15  chromedriver                        0x0000000105a15ee9 chromedriver + 4808425\n16  chromedriver                        0x0000000105a393f9 chromedriver + 4953081\n17  chromedriver                        0x0000000105a07844 chromedriver + 4749380\n18  chromedriver                        0x0000000105a585c8 chromedriver + 5080520\n19  chromedriver                        0x0000000105a58787 chromedriver + 5080967\n20  chromedriver                        0x0000000105a67ece chromedriver + 5144270\n21  libsystem_pthread.dylib             0x00007ff8054364e1 _pthread_start + 125\n22  libsystem_pthread.dylib             0x00007ff805431f6b thread_start + 15\n",
     "output_type": "error",
     "traceback": [
      "\u001b[0;31m---------------------------------------------------------------------------\u001b[0m",
      "\u001b[0;31mElementNotInteractableException\u001b[0m           Traceback (most recent call last)",
      "Cell \u001b[0;32mIn[20], line 2\u001b[0m\n\u001b[1;32m      1\u001b[0m \u001b[38;5;66;03m# Ingresar la elección del usuario en el campo de búsqueda y presionar Enter\u001b[39;00m\n\u001b[0;32m----> 2\u001b[0m driver\u001b[38;5;241m.\u001b[39mfind_element(\u001b[38;5;124m\"\u001b[39m\u001b[38;5;124mcss selector\u001b[39m\u001b[38;5;124m\"\u001b[39m, \u001b[38;5;124m\"\u001b[39m\u001b[38;5;124m#app > div.v-application--wrap > div.when-mobile > div.cabecera.desktop > div.bottom-row > div > div > div:nth-child(2) > div\u001b[39m\u001b[38;5;124m\"\u001b[39m)\u001b[38;5;241m.\u001b[39msend_keys(eleccion_usuario_libro, Keys\u001b[38;5;241m.\u001b[39mENTER)\n",
      "File \u001b[0;32m/opt/anaconda3/lib/python3.11/site-packages/selenium/webdriver/remote/webelement.py:231\u001b[0m, in \u001b[0;36mWebElement.send_keys\u001b[0;34m(self, *value)\u001b[0m\n\u001b[1;32m    228\u001b[0m             remote_files\u001b[38;5;241m.\u001b[39mappend(\u001b[38;5;28mself\u001b[39m\u001b[38;5;241m.\u001b[39m_upload(file))\n\u001b[1;32m    229\u001b[0m         value \u001b[38;5;241m=\u001b[39m \u001b[38;5;124m\"\u001b[39m\u001b[38;5;130;01m\\n\u001b[39;00m\u001b[38;5;124m\"\u001b[39m\u001b[38;5;241m.\u001b[39mjoin(remote_files)\n\u001b[0;32m--> 231\u001b[0m \u001b[38;5;28mself\u001b[39m\u001b[38;5;241m.\u001b[39m_execute(\n\u001b[1;32m    232\u001b[0m     Command\u001b[38;5;241m.\u001b[39mSEND_KEYS_TO_ELEMENT, {\u001b[38;5;124m\"\u001b[39m\u001b[38;5;124mtext\u001b[39m\u001b[38;5;124m\"\u001b[39m: \u001b[38;5;124m\"\u001b[39m\u001b[38;5;124m\"\u001b[39m\u001b[38;5;241m.\u001b[39mjoin(keys_to_typing(value)), \u001b[38;5;124m\"\u001b[39m\u001b[38;5;124mvalue\u001b[39m\u001b[38;5;124m\"\u001b[39m: keys_to_typing(value)}\n\u001b[1;32m    233\u001b[0m )\n",
      "File \u001b[0;32m/opt/anaconda3/lib/python3.11/site-packages/selenium/webdriver/remote/webelement.py:395\u001b[0m, in \u001b[0;36mWebElement._execute\u001b[0;34m(self, command, params)\u001b[0m\n\u001b[1;32m    393\u001b[0m     params \u001b[38;5;241m=\u001b[39m {}\n\u001b[1;32m    394\u001b[0m params[\u001b[38;5;124m\"\u001b[39m\u001b[38;5;124mid\u001b[39m\u001b[38;5;124m\"\u001b[39m] \u001b[38;5;241m=\u001b[39m \u001b[38;5;28mself\u001b[39m\u001b[38;5;241m.\u001b[39m_id\n\u001b[0;32m--> 395\u001b[0m \u001b[38;5;28;01mreturn\u001b[39;00m \u001b[38;5;28mself\u001b[39m\u001b[38;5;241m.\u001b[39m_parent\u001b[38;5;241m.\u001b[39mexecute(command, params)\n",
      "File \u001b[0;32m/opt/anaconda3/lib/python3.11/site-packages/selenium/webdriver/remote/webdriver.py:354\u001b[0m, in \u001b[0;36mWebDriver.execute\u001b[0;34m(self, driver_command, params)\u001b[0m\n\u001b[1;32m    352\u001b[0m response \u001b[38;5;241m=\u001b[39m \u001b[38;5;28mself\u001b[39m\u001b[38;5;241m.\u001b[39mcommand_executor\u001b[38;5;241m.\u001b[39mexecute(driver_command, params)\n\u001b[1;32m    353\u001b[0m \u001b[38;5;28;01mif\u001b[39;00m response:\n\u001b[0;32m--> 354\u001b[0m     \u001b[38;5;28mself\u001b[39m\u001b[38;5;241m.\u001b[39merror_handler\u001b[38;5;241m.\u001b[39mcheck_response(response)\n\u001b[1;32m    355\u001b[0m     response[\u001b[38;5;124m\"\u001b[39m\u001b[38;5;124mvalue\u001b[39m\u001b[38;5;124m\"\u001b[39m] \u001b[38;5;241m=\u001b[39m \u001b[38;5;28mself\u001b[39m\u001b[38;5;241m.\u001b[39m_unwrap_value(response\u001b[38;5;241m.\u001b[39mget(\u001b[38;5;124m\"\u001b[39m\u001b[38;5;124mvalue\u001b[39m\u001b[38;5;124m\"\u001b[39m, \u001b[38;5;28;01mNone\u001b[39;00m))\n\u001b[1;32m    356\u001b[0m     \u001b[38;5;28;01mreturn\u001b[39;00m response\n",
      "File \u001b[0;32m/opt/anaconda3/lib/python3.11/site-packages/selenium/webdriver/remote/errorhandler.py:229\u001b[0m, in \u001b[0;36mErrorHandler.check_response\u001b[0;34m(self, response)\u001b[0m\n\u001b[1;32m    227\u001b[0m         alert_text \u001b[38;5;241m=\u001b[39m value[\u001b[38;5;124m\"\u001b[39m\u001b[38;5;124malert\u001b[39m\u001b[38;5;124m\"\u001b[39m]\u001b[38;5;241m.\u001b[39mget(\u001b[38;5;124m\"\u001b[39m\u001b[38;5;124mtext\u001b[39m\u001b[38;5;124m\"\u001b[39m)\n\u001b[1;32m    228\u001b[0m     \u001b[38;5;28;01mraise\u001b[39;00m exception_class(message, screen, stacktrace, alert_text)  \u001b[38;5;66;03m# type: ignore[call-arg]  # mypy is not smart enough here\u001b[39;00m\n\u001b[0;32m--> 229\u001b[0m \u001b[38;5;28;01mraise\u001b[39;00m exception_class(message, screen, stacktrace)\n",
      "\u001b[0;31mElementNotInteractableException\u001b[0m: Message: element not interactable\n  (Session info: chrome=127.0.6533.120)\nStacktrace:\n0   chromedriver                        0x0000000105a708b8 chromedriver + 5179576\n1   chromedriver                        0x0000000105a682ea chromedriver + 5145322\n2   chromedriver                        0x00000001055df0e1 chromedriver + 389345\n3   chromedriver                        0x0000000105625598 chromedriver + 677272\n4   chromedriver                        0x00000001056239fa chromedriver + 670202\n5   chromedriver                        0x000000010564d7b2 chromedriver + 841650\n6   chromedriver                        0x000000010561fe58 chromedriver + 654936\n7   chromedriver                        0x000000010564d96e chromedriver + 842094\n8   chromedriver                        0x000000010566ab9b chromedriver + 961435\n9   chromedriver                        0x000000010564d553 chromedriver + 841043\n10  chromedriver                        0x000000010561e7f6 chromedriver + 649206\n11  chromedriver                        0x000000010561f05e chromedriver + 651358\n12  chromedriver                        0x0000000105a33b20 chromedriver + 4930336\n13  chromedriver                        0x0000000105a38a36 chromedriver + 4950582\n14  chromedriver                        0x0000000105a39105 chromedriver + 4952325\n15  chromedriver                        0x0000000105a15ee9 chromedriver + 4808425\n16  chromedriver                        0x0000000105a393f9 chromedriver + 4953081\n17  chromedriver                        0x0000000105a07844 chromedriver + 4749380\n18  chromedriver                        0x0000000105a585c8 chromedriver + 5080520\n19  chromedriver                        0x0000000105a58787 chromedriver + 5080967\n20  chromedriver                        0x0000000105a67ece chromedriver + 5144270\n21  libsystem_pthread.dylib             0x00007ff8054364e1 _pthread_start + 125\n22  libsystem_pthread.dylib             0x00007ff805431f6b thread_start + 15\n"
     ]
    }
   ],
   "source": [
    "# Ingresar la elección del usuario en el campo de búsqueda y presionar Enter\n",
    "driver.find_element(\"css selector\", \"#buscadorNF > div.col-md-9.col-12 > div > div.grid-view.mt-4 > div:nth-child(1)\").send_keys(eleccion_usuario_libro, Keys.ENTER)\n"
   ]
  },
  {
   "cell_type": "code",
   "execution_count": null,
   "metadata": {},
   "outputs": [],
   "source": [
    "# Pausa de 3 segundos para esperar a que carguen los resultados\n",
    "sleep(3)"
   ]
  }
 ],
 "metadata": {
  "kernelspec": {
   "display_name": "base",
   "language": "python",
   "name": "python3"
  },
  "language_info": {
   "codemirror_mode": {
    "name": "ipython",
    "version": 3
   },
   "file_extension": ".py",
   "mimetype": "text/x-python",
   "name": "python",
   "nbconvert_exporter": "python",
   "pygments_lexer": "ipython3",
   "version": "3.11.7"
  }
 },
 "nbformat": 4,
 "nbformat_minor": 2
}
