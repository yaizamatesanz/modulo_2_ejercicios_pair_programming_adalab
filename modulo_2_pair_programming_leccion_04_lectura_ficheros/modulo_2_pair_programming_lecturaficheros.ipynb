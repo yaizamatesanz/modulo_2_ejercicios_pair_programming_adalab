{
 "cells": [
  {
   "cell_type": "markdown",
   "metadata": {},
   "source": [
    "Enunciado:\n",
    "En este pair vamos a trabajar la apertura y exploración de archivos. Para finalmente guardar el archivo con un formato diferente.\n",
    "\n",
    "1. Hacer las importaciones necesarias para abrir un archivo de tipo \"csv\" en Pandas."
   ]
  },
  {
   "cell_type": "code",
   "execution_count": 1,
   "metadata": {},
   "outputs": [],
   "source": [
    "import pandas as pd\n",
    "import json\n",
    "import xml.etree.ElementTree as ET"
   ]
  },
  {
   "cell_type": "markdown",
   "metadata": {},
   "source": [
    "2. Abrir el archivo, creando un Dataframe. Aseguraros de que no incluye la columna \"Unnamed: 0\"."
   ]
  },
  {
   "cell_type": "code",
   "execution_count": 2,
   "metadata": {},
   "outputs": [],
   "source": [
    "df_videogames = pd.read_csv(\"videogames.csv\")"
   ]
  },
  {
   "cell_type": "code",
   "execution_count": 3,
   "metadata": {},
   "outputs": [],
   "source": [
    "#Guardar un dataframe sin índice\n",
    "df_videogames = pd.read_csv(\"videogames.csv\", index_col = 0)"
   ]
  },
  {
   "cell_type": "code",
   "execution_count": 4,
   "metadata": {},
   "outputs": [
    {
     "data": {
      "text/html": [
       "<div>\n",
       "<style scoped>\n",
       "    .dataframe tbody tr th:only-of-type {\n",
       "        vertical-align: middle;\n",
       "    }\n",
       "\n",
       "    .dataframe tbody tr th {\n",
       "        vertical-align: top;\n",
       "    }\n",
       "\n",
       "    .dataframe thead th {\n",
       "        text-align: right;\n",
       "    }\n",
       "</style>\n",
       "<table border=\"1\" class=\"dataframe\">\n",
       "  <thead>\n",
       "    <tr style=\"text-align: right;\">\n",
       "      <th></th>\n",
       "      <th>name</th>\n",
       "      <th>url</th>\n",
       "      <th>year</th>\n",
       "      <th>certificate</th>\n",
       "      <th>rating</th>\n",
       "      <th>votes</th>\n",
       "      <th>plot</th>\n",
       "      <th>Action</th>\n",
       "      <th>Adventure</th>\n",
       "      <th>Comedy</th>\n",
       "      <th>Crime</th>\n",
       "      <th>Family</th>\n",
       "      <th>Fantasy</th>\n",
       "      <th>Mystery</th>\n",
       "      <th>Sci-Fi</th>\n",
       "      <th>Thriller</th>\n",
       "    </tr>\n",
       "    <tr>\n",
       "      <th>Unnamed: 0</th>\n",
       "      <th></th>\n",
       "      <th></th>\n",
       "      <th></th>\n",
       "      <th></th>\n",
       "      <th></th>\n",
       "      <th></th>\n",
       "      <th></th>\n",
       "      <th></th>\n",
       "      <th></th>\n",
       "      <th></th>\n",
       "      <th></th>\n",
       "      <th></th>\n",
       "      <th></th>\n",
       "      <th></th>\n",
       "      <th></th>\n",
       "      <th></th>\n",
       "    </tr>\n",
       "  </thead>\n",
       "  <tbody>\n",
       "    <tr>\n",
       "      <th>0</th>\n",
       "      <td>Spider-Man</td>\n",
       "      <td>https://www.imdb.com/title/tt5807780/?ref_=adv...</td>\n",
       "      <td>2018.0</td>\n",
       "      <td>T</td>\n",
       "      <td>9.2</td>\n",
       "      <td>20,759</td>\n",
       "      <td>When a new villain threatens New York City, Pe...</td>\n",
       "      <td>True</td>\n",
       "      <td>True</td>\n",
       "      <td>False</td>\n",
       "      <td>False</td>\n",
       "      <td>False</td>\n",
       "      <td>True</td>\n",
       "      <td>False</td>\n",
       "      <td>False</td>\n",
       "      <td>False</td>\n",
       "    </tr>\n",
       "    <tr>\n",
       "      <th>1</th>\n",
       "      <td>Red Dead Redemption II</td>\n",
       "      <td>https://www.imdb.com/title/tt6161168/?ref_=adv...</td>\n",
       "      <td>2018.0</td>\n",
       "      <td>M</td>\n",
       "      <td>9.7</td>\n",
       "      <td>35,703</td>\n",
       "      <td>Amidst the decline of the Wild West at the tur...</td>\n",
       "      <td>True</td>\n",
       "      <td>True</td>\n",
       "      <td>False</td>\n",
       "      <td>True</td>\n",
       "      <td>False</td>\n",
       "      <td>False</td>\n",
       "      <td>False</td>\n",
       "      <td>False</td>\n",
       "      <td>False</td>\n",
       "    </tr>\n",
       "    <tr>\n",
       "      <th>2</th>\n",
       "      <td>Grand Theft Auto V</td>\n",
       "      <td>https://www.imdb.com/title/tt2103188/?ref_=adv...</td>\n",
       "      <td>2013.0</td>\n",
       "      <td>M</td>\n",
       "      <td>9.5</td>\n",
       "      <td>59,986</td>\n",
       "      <td>Three very different criminals team up for a s...</td>\n",
       "      <td>True</td>\n",
       "      <td>False</td>\n",
       "      <td>False</td>\n",
       "      <td>True</td>\n",
       "      <td>False</td>\n",
       "      <td>False</td>\n",
       "      <td>False</td>\n",
       "      <td>False</td>\n",
       "      <td>False</td>\n",
       "    </tr>\n",
       "    <tr>\n",
       "      <th>3</th>\n",
       "      <td>God of War</td>\n",
       "      <td>https://www.imdb.com/title/tt5838588/?ref_=adv...</td>\n",
       "      <td>2018.0</td>\n",
       "      <td>M</td>\n",
       "      <td>9.6</td>\n",
       "      <td>26,118</td>\n",
       "      <td>After wiping out the gods of Mount Olympus, Kr...</td>\n",
       "      <td>True</td>\n",
       "      <td>True</td>\n",
       "      <td>False</td>\n",
       "      <td>False</td>\n",
       "      <td>False</td>\n",
       "      <td>False</td>\n",
       "      <td>False</td>\n",
       "      <td>False</td>\n",
       "      <td>False</td>\n",
       "    </tr>\n",
       "    <tr>\n",
       "      <th>4</th>\n",
       "      <td>Uncharted 4: A Thief's End</td>\n",
       "      <td>https://www.imdb.com/title/tt3334704/?ref_=adv...</td>\n",
       "      <td>2016.0</td>\n",
       "      <td>T</td>\n",
       "      <td>9.5</td>\n",
       "      <td>28,722</td>\n",
       "      <td>Thrown back into the dangerous underworld he'd...</td>\n",
       "      <td>True</td>\n",
       "      <td>True</td>\n",
       "      <td>False</td>\n",
       "      <td>False</td>\n",
       "      <td>False</td>\n",
       "      <td>False</td>\n",
       "      <td>False</td>\n",
       "      <td>False</td>\n",
       "      <td>False</td>\n",
       "    </tr>\n",
       "  </tbody>\n",
       "</table>\n",
       "</div>"
      ],
      "text/plain": [
       "                                  name  \\\n",
       "Unnamed: 0                               \n",
       "0                           Spider-Man   \n",
       "1               Red Dead Redemption II   \n",
       "2                   Grand Theft Auto V   \n",
       "3                           God of War   \n",
       "4           Uncharted 4: A Thief's End   \n",
       "\n",
       "                                                          url    year  \\\n",
       "Unnamed: 0                                                              \n",
       "0           https://www.imdb.com/title/tt5807780/?ref_=adv...  2018.0   \n",
       "1           https://www.imdb.com/title/tt6161168/?ref_=adv...  2018.0   \n",
       "2           https://www.imdb.com/title/tt2103188/?ref_=adv...  2013.0   \n",
       "3           https://www.imdb.com/title/tt5838588/?ref_=adv...  2018.0   \n",
       "4           https://www.imdb.com/title/tt3334704/?ref_=adv...  2016.0   \n",
       "\n",
       "           certificate  rating   votes  \\\n",
       "Unnamed: 0                               \n",
       "0                    T     9.2  20,759   \n",
       "1                    M     9.7  35,703   \n",
       "2                    M     9.5  59,986   \n",
       "3                    M     9.6  26,118   \n",
       "4                    T     9.5  28,722   \n",
       "\n",
       "                                                         plot  Action  \\\n",
       "Unnamed: 0                                                              \n",
       "0           When a new villain threatens New York City, Pe...    True   \n",
       "1           Amidst the decline of the Wild West at the tur...    True   \n",
       "2           Three very different criminals team up for a s...    True   \n",
       "3           After wiping out the gods of Mount Olympus, Kr...    True   \n",
       "4           Thrown back into the dangerous underworld he'd...    True   \n",
       "\n",
       "            Adventure  Comedy  Crime  Family  Fantasy  Mystery  Sci-Fi  \\\n",
       "Unnamed: 0                                                               \n",
       "0                True   False  False   False     True    False   False   \n",
       "1                True   False   True   False    False    False   False   \n",
       "2               False   False   True   False    False    False   False   \n",
       "3                True   False  False   False    False    False   False   \n",
       "4                True   False  False   False    False    False   False   \n",
       "\n",
       "            Thriller  \n",
       "Unnamed: 0            \n",
       "0              False  \n",
       "1              False  \n",
       "2              False  \n",
       "3              False  \n",
       "4              False  "
      ]
     },
     "execution_count": 4,
     "metadata": {},
     "output_type": "execute_result"
    }
   ],
   "source": [
    "df_videogames.head()"
   ]
  },
  {
   "cell_type": "markdown",
   "metadata": {},
   "source": [
    "3. Guardar el Dataframe en formato Excel y después crear un Dataframe con el Excel. ¿EL Dataframe es similar al que teníais antes?"
   ]
  },
  {
   "cell_type": "code",
   "execution_count": 5,
   "metadata": {},
   "outputs": [],
   "source": [
    "df_videogames.to_excel(\"videogames.xlsx\")"
   ]
  },
  {
   "cell_type": "code",
   "execution_count": 6,
   "metadata": {},
   "outputs": [],
   "source": [
    "df_videogames_excel = pd.read_excel(\"videogames.xlsx\", index_col = 0)"
   ]
  },
  {
   "cell_type": "code",
   "execution_count": 8,
   "metadata": {},
   "outputs": [
    {
     "data": {
      "text/html": [
       "<div>\n",
       "<style scoped>\n",
       "    .dataframe tbody tr th:only-of-type {\n",
       "        vertical-align: middle;\n",
       "    }\n",
       "\n",
       "    .dataframe tbody tr th {\n",
       "        vertical-align: top;\n",
       "    }\n",
       "\n",
       "    .dataframe thead th {\n",
       "        text-align: right;\n",
       "    }\n",
       "</style>\n",
       "<table border=\"1\" class=\"dataframe\">\n",
       "  <thead>\n",
       "    <tr style=\"text-align: right;\">\n",
       "      <th></th>\n",
       "      <th>name</th>\n",
       "      <th>url</th>\n",
       "      <th>year</th>\n",
       "      <th>certificate</th>\n",
       "      <th>rating</th>\n",
       "      <th>votes</th>\n",
       "      <th>plot</th>\n",
       "      <th>Action</th>\n",
       "      <th>Adventure</th>\n",
       "      <th>Comedy</th>\n",
       "      <th>Crime</th>\n",
       "      <th>Family</th>\n",
       "      <th>Fantasy</th>\n",
       "      <th>Mystery</th>\n",
       "      <th>Sci-Fi</th>\n",
       "      <th>Thriller</th>\n",
       "    </tr>\n",
       "    <tr>\n",
       "      <th>Unnamed: 0</th>\n",
       "      <th></th>\n",
       "      <th></th>\n",
       "      <th></th>\n",
       "      <th></th>\n",
       "      <th></th>\n",
       "      <th></th>\n",
       "      <th></th>\n",
       "      <th></th>\n",
       "      <th></th>\n",
       "      <th></th>\n",
       "      <th></th>\n",
       "      <th></th>\n",
       "      <th></th>\n",
       "      <th></th>\n",
       "      <th></th>\n",
       "      <th></th>\n",
       "    </tr>\n",
       "  </thead>\n",
       "  <tbody>\n",
       "    <tr>\n",
       "      <th>0</th>\n",
       "      <td>Spider-Man</td>\n",
       "      <td>https://www.imdb.com/title/tt5807780/?ref_=adv...</td>\n",
       "      <td>2018.0</td>\n",
       "      <td>T</td>\n",
       "      <td>9.2</td>\n",
       "      <td>20,759</td>\n",
       "      <td>When a new villain threatens New York City, Pe...</td>\n",
       "      <td>True</td>\n",
       "      <td>True</td>\n",
       "      <td>False</td>\n",
       "      <td>False</td>\n",
       "      <td>False</td>\n",
       "      <td>True</td>\n",
       "      <td>False</td>\n",
       "      <td>False</td>\n",
       "      <td>False</td>\n",
       "    </tr>\n",
       "    <tr>\n",
       "      <th>1</th>\n",
       "      <td>Red Dead Redemption II</td>\n",
       "      <td>https://www.imdb.com/title/tt6161168/?ref_=adv...</td>\n",
       "      <td>2018.0</td>\n",
       "      <td>M</td>\n",
       "      <td>9.7</td>\n",
       "      <td>35,703</td>\n",
       "      <td>Amidst the decline of the Wild West at the tur...</td>\n",
       "      <td>True</td>\n",
       "      <td>True</td>\n",
       "      <td>False</td>\n",
       "      <td>True</td>\n",
       "      <td>False</td>\n",
       "      <td>False</td>\n",
       "      <td>False</td>\n",
       "      <td>False</td>\n",
       "      <td>False</td>\n",
       "    </tr>\n",
       "    <tr>\n",
       "      <th>2</th>\n",
       "      <td>Grand Theft Auto V</td>\n",
       "      <td>https://www.imdb.com/title/tt2103188/?ref_=adv...</td>\n",
       "      <td>2013.0</td>\n",
       "      <td>M</td>\n",
       "      <td>9.5</td>\n",
       "      <td>59,986</td>\n",
       "      <td>Three very different criminals team up for a s...</td>\n",
       "      <td>True</td>\n",
       "      <td>False</td>\n",
       "      <td>False</td>\n",
       "      <td>True</td>\n",
       "      <td>False</td>\n",
       "      <td>False</td>\n",
       "      <td>False</td>\n",
       "      <td>False</td>\n",
       "      <td>False</td>\n",
       "    </tr>\n",
       "    <tr>\n",
       "      <th>3</th>\n",
       "      <td>God of War</td>\n",
       "      <td>https://www.imdb.com/title/tt5838588/?ref_=adv...</td>\n",
       "      <td>2018.0</td>\n",
       "      <td>M</td>\n",
       "      <td>9.6</td>\n",
       "      <td>26,118</td>\n",
       "      <td>After wiping out the gods of Mount Olympus, Kr...</td>\n",
       "      <td>True</td>\n",
       "      <td>True</td>\n",
       "      <td>False</td>\n",
       "      <td>False</td>\n",
       "      <td>False</td>\n",
       "      <td>False</td>\n",
       "      <td>False</td>\n",
       "      <td>False</td>\n",
       "      <td>False</td>\n",
       "    </tr>\n",
       "    <tr>\n",
       "      <th>4</th>\n",
       "      <td>Uncharted 4: A Thief's End</td>\n",
       "      <td>https://www.imdb.com/title/tt3334704/?ref_=adv...</td>\n",
       "      <td>2016.0</td>\n",
       "      <td>T</td>\n",
       "      <td>9.5</td>\n",
       "      <td>28,722</td>\n",
       "      <td>Thrown back into the dangerous underworld he'd...</td>\n",
       "      <td>True</td>\n",
       "      <td>True</td>\n",
       "      <td>False</td>\n",
       "      <td>False</td>\n",
       "      <td>False</td>\n",
       "      <td>False</td>\n",
       "      <td>False</td>\n",
       "      <td>False</td>\n",
       "      <td>False</td>\n",
       "    </tr>\n",
       "  </tbody>\n",
       "</table>\n",
       "</div>"
      ],
      "text/plain": [
       "                                  name  \\\n",
       "Unnamed: 0                               \n",
       "0                           Spider-Man   \n",
       "1               Red Dead Redemption II   \n",
       "2                   Grand Theft Auto V   \n",
       "3                           God of War   \n",
       "4           Uncharted 4: A Thief's End   \n",
       "\n",
       "                                                          url    year  \\\n",
       "Unnamed: 0                                                              \n",
       "0           https://www.imdb.com/title/tt5807780/?ref_=adv...  2018.0   \n",
       "1           https://www.imdb.com/title/tt6161168/?ref_=adv...  2018.0   \n",
       "2           https://www.imdb.com/title/tt2103188/?ref_=adv...  2013.0   \n",
       "3           https://www.imdb.com/title/tt5838588/?ref_=adv...  2018.0   \n",
       "4           https://www.imdb.com/title/tt3334704/?ref_=adv...  2016.0   \n",
       "\n",
       "           certificate  rating   votes  \\\n",
       "Unnamed: 0                               \n",
       "0                    T     9.2  20,759   \n",
       "1                    M     9.7  35,703   \n",
       "2                    M     9.5  59,986   \n",
       "3                    M     9.6  26,118   \n",
       "4                    T     9.5  28,722   \n",
       "\n",
       "                                                         plot  Action  \\\n",
       "Unnamed: 0                                                              \n",
       "0           When a new villain threatens New York City, Pe...    True   \n",
       "1           Amidst the decline of the Wild West at the tur...    True   \n",
       "2           Three very different criminals team up for a s...    True   \n",
       "3           After wiping out the gods of Mount Olympus, Kr...    True   \n",
       "4           Thrown back into the dangerous underworld he'd...    True   \n",
       "\n",
       "            Adventure  Comedy  Crime  Family  Fantasy  Mystery  Sci-Fi  \\\n",
       "Unnamed: 0                                                               \n",
       "0                True   False  False   False     True    False   False   \n",
       "1                True   False   True   False    False    False   False   \n",
       "2               False   False   True   False    False    False   False   \n",
       "3                True   False  False   False    False    False   False   \n",
       "4                True   False  False   False    False    False   False   \n",
       "\n",
       "            Thriller  \n",
       "Unnamed: 0            \n",
       "0              False  \n",
       "1              False  \n",
       "2              False  \n",
       "3              False  \n",
       "4              False  "
      ]
     },
     "execution_count": 8,
     "metadata": {},
     "output_type": "execute_result"
    }
   ],
   "source": [
    "df_videogames_excel.head()"
   ]
  },
  {
   "cell_type": "markdown",
   "metadata": {},
   "source": [
    "4. Crear una carpeta llamada Files y guardar el mismo archivo en esa carpeta en formato csv"
   ]
  },
  {
   "cell_type": "code",
   "execution_count": 9,
   "metadata": {},
   "outputs": [],
   "source": [
    "# Necesario para utilizar las funciones que ofrece el módulo os,\n",
    "# las cuales nos permiten interactuar con el sistema operativo. \n",
    "# En este caso, lo usamos para crear un nuevo directorio y verificar si ya existe.\n",
    "import os"
   ]
  },
  {
   "cell_type": "code",
   "execution_count": 10,
   "metadata": {},
   "outputs": [],
   "source": [
    "# Crear la carpeta Files si no existe. \n",
    "if not os.path.exists(\"Files\"): # Si la carpeta \"Files1\" no existe dentro de la carpeta en la que se está trabajando (modulo_2_pair_programming) .\n",
    "    os.makedirs(\"Files\") # crea esa carpeta \"Files1\" en la carpeta modulo_2_pair_programming."
   ]
  },
  {
   "cell_type": "code",
   "execution_count": 11,
   "metadata": {},
   "outputs": [],
   "source": [
    "# Supongamos que ya tienes tu DataFrame llamado df_videogames\n",
    "# Guardar el DataFrame en formato .csv dentro de la carpeta Files\n",
    "df_videogames.to_csv(\"Files/videogames1.csv\", index=False)"
   ]
  },
  {
   "cell_type": "markdown",
   "metadata": {},
   "source": [
    "5. Copia el archivo personal.json en la carpeta Files."
   ]
  },
  {
   "cell_type": "code",
   "execution_count": 13,
   "metadata": {},
   "outputs": [],
   "source": [
    "# Éste módulo proporciona una forma de copiar y mover archivos y directorios.\n",
    "import shutil"
   ]
  },
  {
   "cell_type": "code",
   "execution_count": 16,
   "metadata": {},
   "outputs": [
    {
     "data": {
      "text/plain": [
       "'/Users/yai/Desktop/BOOTCAMP ADALAB/Modulo 2/pair_programming_modulo_2/modulo_2_pair_programming_lecturaficheros/Files/personal.json'"
      ]
     },
     "execution_count": 16,
     "metadata": {},
     "output_type": "execute_result"
    }
   ],
   "source": [
    "# Ruta del archivo JSON original (la carpeta de origen)\n",
    "ruta_origen_personal = \"/Users/yai/Desktop/BOOTCAMP ADALAB/Modulo 2/ejercicios_modulo_2/modulo_2_leccion_04_lectura_ficheros/personal.json\"\n",
    "\n",
    "# Ruta de destino donde queremos copiar el archivo en nuestra carpeta de Visual Studio Code\n",
    "ruta_destino_personal = \"/Users/yai/Desktop/BOOTCAMP ADALAB/Modulo 2/pair_programming_modulo_2/modulo_2_pair_programming_lecturaficheros/Files\"\n",
    "\n",
    "# Copiar el archivo JSON a la nueva ubicación\n",
    "shutil.copy(ruta_origen_personal, ruta_destino_personal)"
   ]
  },
  {
   "cell_type": "markdown",
   "metadata": {},
   "source": [
    "6. Abre el json y haz las modificaciones necesarias para poder abrirlo correctamente en Pandas.\n",
    "\n",
    "7. Guardar el json modificado y abrirlo en Pandas para que tenga formato de tabla."
   ]
  },
  {
   "cell_type": "code",
   "execution_count": 17,
   "metadata": {},
   "outputs": [],
   "source": [
    "with open(\"Files/personal.json\", \"r\") as fichero: # introducimos el nombre de nuestro archivo json y \"r\" porque lo vamos a leer(read)\n",
    "    personal1 = json.load(fichero) # igualamos el archivo cargado a una variable para tenerlo almacenado"
   ]
  },
  {
   "cell_type": "code",
   "execution_count": 18,
   "metadata": {},
   "outputs": [
    {
     "data": {
      "text/plain": [
       "dict"
      ]
     },
     "execution_count": 18,
     "metadata": {},
     "output_type": "execute_result"
    }
   ],
   "source": [
    "type(personal1)"
   ]
  },
  {
   "cell_type": "code",
   "execution_count": 19,
   "metadata": {},
   "outputs": [
    {
     "data": {
      "text/plain": [
       "{'workers': [{'nombre': 'Ana',\n",
       "   'edad': 32,\n",
       "   'experiencia': 5,\n",
       "   'nivel': 'Senior',\n",
       "   'salario': 50000,\n",
       "   'mascota': 'gatos'},\n",
       "  {'nombre': 'Eva',\n",
       "   'edad': 37,\n",
       "   'experiencia': 2,\n",
       "   'nivel': 'Mid',\n",
       "   'salario': 35000},\n",
       "  {'nombre': 'Marta',\n",
       "   'edad': 27,\n",
       "   'experiencia': 1,\n",
       "   'nivel': 'Junior',\n",
       "   'salario': 25000},\n",
       "  {'nombre': 'Paula',\n",
       "   'edad': 30,\n",
       "   'experiencia': 3,\n",
       "   'nivel': 'Mid',\n",
       "   'salario': 35000}]}"
      ]
     },
     "execution_count": 19,
     "metadata": {},
     "output_type": "execute_result"
    }
   ],
   "source": [
    "#Estructra del archivo --> diccionario \n",
    "# Key \"workers\" --> una lista de diccionarios con todos los trabajadores.\n",
    "personal1"
   ]
  },
  {
   "cell_type": "code",
   "execution_count": 20,
   "metadata": {},
   "outputs": [
    {
     "data": {
      "text/plain": [
       "4"
      ]
     },
     "execution_count": 20,
     "metadata": {},
     "output_type": "execute_result"
    }
   ],
   "source": [
    "len(personal1[\"workers\"]) # #Longitud de \"workers\""
   ]
  },
  {
   "cell_type": "code",
   "execution_count": 21,
   "metadata": {},
   "outputs": [
    {
     "name": "stdout",
     "output_type": "stream",
     "text": [
      "{'nombre': 'Ana', 'edad': 32, 'experiencia': 5, 'nivel': 'Senior', 'salario': 50000, 'mascota': 'gatos'}\n",
      "{'nombre': 'Eva', 'edad': 37, 'experiencia': 2, 'nivel': 'Mid', 'salario': 35000}\n",
      "{'nombre': 'Marta', 'edad': 27, 'experiencia': 1, 'nivel': 'Junior', 'salario': 25000}\n",
      "{'nombre': 'Paula', 'edad': 30, 'experiencia': 3, 'nivel': 'Mid', 'salario': 35000}\n"
     ]
    }
   ],
   "source": [
    "for person in personal1[\"workers\"]: # #Accedemos a cada uno de los registros dentro de \"workers\"\n",
    "    print(person)"
   ]
  },
  {
   "cell_type": "code",
   "execution_count": 22,
   "metadata": {},
   "outputs": [
    {
     "data": {
      "text/plain": [
       "{'nombre': 'Eva',\n",
       " 'edad': 37,\n",
       " 'experiencia': 2,\n",
       " 'nivel': 'Mid',\n",
       " 'salario': 35000}"
      ]
     },
     "execution_count": 22,
     "metadata": {},
     "output_type": "execute_result"
    }
   ],
   "source": [
    "personal1[\"workers\"][1] # Usamos los índices, así accedemos a cada uno de los registros."
   ]
  },
  {
   "cell_type": "code",
   "execution_count": 23,
   "metadata": {},
   "outputs": [
    {
     "data": {
      "text/plain": [
       "'Eva'"
      ]
     },
     "execution_count": 23,
     "metadata": {},
     "output_type": "execute_result"
    }
   ],
   "source": [
    "personal1[\"workers\"][1][\"nombre\"] # Accedemos a cada uno de los valores del diccionario a través de las keys"
   ]
  },
  {
   "cell_type": "code",
   "execution_count": 24,
   "metadata": {},
   "outputs": [
    {
     "data": {
      "text/plain": [
       "'Senior'"
      ]
     },
     "execution_count": 24,
     "metadata": {},
     "output_type": "execute_result"
    }
   ],
   "source": [
    "personal1[\"workers\"][1][\"nivel\"]= \"Senior\"  # Modificamos el valor de las keys\n",
    "personal1[\"workers\"][1][\"nivel\"]"
   ]
  },
  {
   "cell_type": "code",
   "execution_count": 25,
   "metadata": {},
   "outputs": [],
   "source": [
    "for i in range(len(personal1[\"workers\"])):        # Usamos un bucle incluyendo condiciones. En este caso, si el nombre de alguna de las personas es igual a Ana, le añadimos la key \"mascota\".\n",
    "    if personal1[\"workers\"][i][\"nombre\"]==\"Eva\":\n",
    "        personal1[\"workers\"][i][\"nivel\"] = \"Mid\""
   ]
  },
  {
   "cell_type": "code",
   "execution_count": 26,
   "metadata": {},
   "outputs": [
    {
     "data": {
      "text/plain": [
       "{'nombre': 'Eva',\n",
       " 'edad': 37,\n",
       " 'experiencia': 2,\n",
       " 'nivel': 'Mid',\n",
       " 'salario': 35000}"
      ]
     },
     "execution_count": 26,
     "metadata": {},
     "output_type": "execute_result"
    }
   ],
   "source": [
    "personal1[\"workers\"][1]    "
   ]
  },
  {
   "cell_type": "code",
   "execution_count": 27,
   "metadata": {},
   "outputs": [],
   "source": [
    "with open(\"Files/personal_actualizado.json\", \"w\") as fichero: #Guardamos fichero actualizado en un nuevo json. Usamos \"w\" ya que queremos escribir (write)\n",
    "    json.dump(personal1, fichero)"
   ]
  },
  {
   "cell_type": "code",
   "execution_count": 28,
   "metadata": {},
   "outputs": [],
   "source": [
    "df_personal = pd.read_json(\"Files/personal_actualizado.json\")"
   ]
  },
  {
   "cell_type": "code",
   "execution_count": 29,
   "metadata": {},
   "outputs": [
    {
     "data": {
      "text/html": [
       "<div>\n",
       "<style scoped>\n",
       "    .dataframe tbody tr th:only-of-type {\n",
       "        vertical-align: middle;\n",
       "    }\n",
       "\n",
       "    .dataframe tbody tr th {\n",
       "        vertical-align: top;\n",
       "    }\n",
       "\n",
       "    .dataframe thead th {\n",
       "        text-align: right;\n",
       "    }\n",
       "</style>\n",
       "<table border=\"1\" class=\"dataframe\">\n",
       "  <thead>\n",
       "    <tr style=\"text-align: right;\">\n",
       "      <th></th>\n",
       "      <th>workers</th>\n",
       "    </tr>\n",
       "  </thead>\n",
       "  <tbody>\n",
       "    <tr>\n",
       "      <th>0</th>\n",
       "      <td>{'nombre': 'Ana', 'edad': 32, 'experiencia': 5...</td>\n",
       "    </tr>\n",
       "    <tr>\n",
       "      <th>1</th>\n",
       "      <td>{'nombre': 'Eva', 'edad': 37, 'experiencia': 2...</td>\n",
       "    </tr>\n",
       "    <tr>\n",
       "      <th>2</th>\n",
       "      <td>{'nombre': 'Marta', 'edad': 27, 'experiencia':...</td>\n",
       "    </tr>\n",
       "    <tr>\n",
       "      <th>3</th>\n",
       "      <td>{'nombre': 'Paula', 'edad': 30, 'experiencia':...</td>\n",
       "    </tr>\n",
       "  </tbody>\n",
       "</table>\n",
       "</div>"
      ],
      "text/plain": [
       "                                             workers\n",
       "0  {'nombre': 'Ana', 'edad': 32, 'experiencia': 5...\n",
       "1  {'nombre': 'Eva', 'edad': 37, 'experiencia': 2...\n",
       "2  {'nombre': 'Marta', 'edad': 27, 'experiencia':...\n",
       "3  {'nombre': 'Paula', 'edad': 30, 'experiencia':..."
      ]
     },
     "execution_count": 29,
     "metadata": {},
     "output_type": "execute_result"
    }
   ],
   "source": [
    "df_personal.head()"
   ]
  },
  {
   "cell_type": "code",
   "execution_count": 30,
   "metadata": {},
   "outputs": [],
   "source": [
    "df_personal.to_csv(\"Files/personal_tabla.csv\")"
   ]
  },
  {
   "cell_type": "code",
   "execution_count": 32,
   "metadata": {},
   "outputs": [
    {
     "data": {
      "text/plain": [
       "'Mostramos las 5 primeras filas del DataFrame'"
      ]
     },
     "metadata": {},
     "output_type": "display_data"
    },
    {
     "data": {
      "text/html": [
       "<div>\n",
       "<style scoped>\n",
       "    .dataframe tbody tr th:only-of-type {\n",
       "        vertical-align: middle;\n",
       "    }\n",
       "\n",
       "    .dataframe tbody tr th {\n",
       "        vertical-align: top;\n",
       "    }\n",
       "\n",
       "    .dataframe thead th {\n",
       "        text-align: right;\n",
       "    }\n",
       "</style>\n",
       "<table border=\"1\" class=\"dataframe\">\n",
       "  <thead>\n",
       "    <tr style=\"text-align: right;\">\n",
       "      <th></th>\n",
       "      <th>workers</th>\n",
       "    </tr>\n",
       "  </thead>\n",
       "  <tbody>\n",
       "    <tr>\n",
       "      <th>0</th>\n",
       "      <td>{'nombre': 'Ana', 'edad': 32, 'experiencia': 5...</td>\n",
       "    </tr>\n",
       "    <tr>\n",
       "      <th>1</th>\n",
       "      <td>{'nombre': 'Eva', 'edad': 37, 'experiencia': 2...</td>\n",
       "    </tr>\n",
       "    <tr>\n",
       "      <th>2</th>\n",
       "      <td>{'nombre': 'Marta', 'edad': 27, 'experiencia':...</td>\n",
       "    </tr>\n",
       "    <tr>\n",
       "      <th>3</th>\n",
       "      <td>{'nombre': 'Paula', 'edad': 30, 'experiencia':...</td>\n",
       "    </tr>\n",
       "  </tbody>\n",
       "</table>\n",
       "</div>"
      ],
      "text/plain": [
       "                                             workers\n",
       "0  {'nombre': 'Ana', 'edad': 32, 'experiencia': 5...\n",
       "1  {'nombre': 'Eva', 'edad': 37, 'experiencia': 2...\n",
       "2  {'nombre': 'Marta', 'edad': 27, 'experiencia':...\n",
       "3  {'nombre': 'Paula', 'edad': 30, 'experiencia':..."
      ]
     },
     "metadata": {},
     "output_type": "display_data"
    },
    {
     "name": "stdout",
     "output_type": "stream",
     "text": [
      "-------------------------\n"
     ]
    },
    {
     "ename": "NameError",
     "evalue": "name 'encabezados_ibex_final' is not defined",
     "output_type": "error",
     "traceback": [
      "\u001b[0;31m---------------------------------------------------------------------------\u001b[0m",
      "\u001b[0;31mNameError\u001b[0m                                 Traceback (most recent call last)",
      "Cell \u001b[0;32mIn[32], line 5\u001b[0m\n\u001b[1;32m      2\u001b[0m \u001b[38;5;28mprint\u001b[39m(\u001b[38;5;124m\"\u001b[39m\u001b[38;5;124m-------------------------\u001b[39m\u001b[38;5;124m\"\u001b[39m)\n\u001b[1;32m      3\u001b[0m \u001b[38;5;66;03m# para poder poner nombre a las columnas en Pandas tenemos varios métodos, pero uno de los más comunes es el método '.columns' \u001b[39;00m\n\u001b[1;32m      4\u001b[0m \u001b[38;5;66;03m# en este caso le estamos diciendo que las columnas de nuestro DataFrane queremos que correspondan con los valores de la listas de encabezados_index que creamos al inicio\u001b[39;00m\n\u001b[0;32m----> 5\u001b[0m df_personal\u001b[38;5;241m.\u001b[39mcolumns \u001b[38;5;241m=\u001b[39m encabezados_ibex_final\n\u001b[1;32m      8\u001b[0m \u001b[38;5;66;03m# Mostramos las dos primeras filas del DataFrame\u001b[39;00m\n\u001b[1;32m      9\u001b[0m \u001b[38;5;66;03m# ahora vemos que las columnas ya no son números, si no los encabezamos que sacamos al inicio\u001b[39;00m\n\u001b[1;32m     10\u001b[0m display(\u001b[38;5;124m\"\u001b[39m\u001b[38;5;124mMostramos las 2 primeras filas del DataFrame\u001b[39m\u001b[38;5;124m\"\u001b[39m, df_personal\u001b[38;5;241m.\u001b[39mhead(\u001b[38;5;241m2\u001b[39m))\n",
      "\u001b[0;31mNameError\u001b[0m: name 'encabezados_ibex_final' is not defined"
     ]
    }
   ],
   "source": [
    "display(\"Mostramos las 5 primeras filas del DataFrame\",df_personal.head())\n",
    "print(\"-------------------------\")\n",
    "# para poder poner nombre a las columnas en Pandas tenemos varios métodos, pero uno de los más comunes es el método '.columns' \n",
    "# en este caso le estamos diciendo que las columnas de nuestro DataFrane queremos que correspondan con los valores de la listas de encabezados_index que creamos al inicio\n",
    "df_personal.columns = encabezados_ibex_final\n",
    "\n",
    "\n",
    "# Mostramos las dos primeras filas del DataFrame\n",
    "# ahora vemos que las columnas ya no son números, si no los encabezamos que sacamos al inicio\n",
    "display(\"Mostramos las 2 primeras filas del DataFrame\", df_personal.head(2))\n",
    "print(\"-------------------------\")\n",
    "\n",
    "# el número de filas y columnas del DataFrame son\n",
    "print(\"El número de filas y columnas es:\", df_personal.shape)"
   ]
  }
 ],
 "metadata": {
  "kernelspec": {
   "display_name": "base",
   "language": "python",
   "name": "python3"
  },
  "language_info": {
   "codemirror_mode": {
    "name": "ipython",
    "version": 3
   },
   "file_extension": ".py",
   "mimetype": "text/x-python",
   "name": "python",
   "nbconvert_exporter": "python",
   "pygments_lexer": "ipython3",
   "version": "3.11.7"
  }
 },
 "nbformat": 4,
 "nbformat_minor": 2
}
